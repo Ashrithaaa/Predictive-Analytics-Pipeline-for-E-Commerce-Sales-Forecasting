{
 "cells": [
  {
   "cell_type": "code",
   "execution_count": 1,
   "id": "b9d81301",
   "metadata": {
    "execution": {
     "iopub.execute_input": "2025-03-09T00:52:18.980889Z",
     "iopub.status.busy": "2025-03-09T00:52:18.980507Z",
     "iopub.status.idle": "2025-03-09T00:52:39.460374Z",
     "shell.execute_reply": "2025-03-09T00:52:39.459163Z"
    },
    "papermill": {
     "duration": 20.488768,
     "end_time": "2025-03-09T00:52:39.462643",
     "exception": false,
     "start_time": "2025-03-09T00:52:18.973875",
     "status": "completed"
    },
    "tags": []
   },
   "outputs": [],
   "source": [
    "# Import essential libraries\n",
    "import pandas as pd\n",
    "import numpy as np\n",
    "import matplotlib.pyplot as plt\n",
    "import seaborn as sns\n",
    "from statsmodels.tsa.statespace.sarimax import SARIMAX\n",
    "from prophet import Prophet\n",
    "from sklearn.model_selection import train_test_split\n",
    "from sklearn.preprocessing import MinMaxScaler\n",
    "from xgboost import XGBRegressor\n",
    "from tensorflow.keras.models import Sequential\n",
    "from tensorflow.keras.layers import LSTM, Dense, Dropout\n",
    "from sklearn.metrics import mean_absolute_error, mean_squared_error\n",
    "from sklearn.metrics import r2_score\n",
    "import warnings\n",
    "warnings.filterwarnings(\"ignore\")"
   ]
  },
  {
   "cell_type": "markdown",
   "id": "6c84ca18",
   "metadata": {
    "papermill": {
     "duration": 0.004096,
     "end_time": "2025-03-09T00:52:39.471709",
     "exception": false,
     "start_time": "2025-03-09T00:52:39.467613",
     "status": "completed"
    },
    "tags": []
   },
   "source": [
    "## Load & Explore Dataset  \n",
    "We will load the dataset and check its structure to understand the available features."
   ]
  },
  {
   "cell_type": "code",
   "execution_count": 2,
   "id": "143f65c8",
   "metadata": {
    "execution": {
     "iopub.execute_input": "2025-03-09T00:52:39.482165Z",
     "iopub.status.busy": "2025-03-09T00:52:39.481304Z",
     "iopub.status.idle": "2025-03-09T00:52:41.742024Z",
     "shell.execute_reply": "2025-03-09T00:52:41.740576Z"
    },
    "papermill": {
     "duration": 2.268389,
     "end_time": "2025-03-09T00:52:41.744302",
     "exception": false,
     "start_time": "2025-03-09T00:52:39.475913",
     "status": "completed"
    },
    "tags": []
   },
   "outputs": [
    {
     "name": "stdout",
     "output_type": "stream",
     "text": [
      "<class 'pandas.core.frame.DataFrame'>\n",
      "RangeIndex: 128975 entries, 0 to 128974\n",
      "Data columns (total 24 columns):\n",
      " #   Column              Non-Null Count   Dtype  \n",
      "---  ------              --------------   -----  \n",
      " 0   index               128975 non-null  int64  \n",
      " 1   Order ID            128975 non-null  object \n",
      " 2   Date                128975 non-null  object \n",
      " 3   Status              128975 non-null  object \n",
      " 4   Fulfilment          128975 non-null  object \n",
      " 5   Sales Channel       128975 non-null  object \n",
      " 6   ship-service-level  128975 non-null  object \n",
      " 7   Style               128975 non-null  object \n",
      " 8   SKU                 128975 non-null  object \n",
      " 9   Category            128975 non-null  object \n",
      " 10  Size                128975 non-null  object \n",
      " 11  ASIN                128975 non-null  object \n",
      " 12  Courier Status      122103 non-null  object \n",
      " 13  Qty                 128975 non-null  int64  \n",
      " 14  currency            121180 non-null  object \n",
      " 15  Amount              121180 non-null  float64\n",
      " 16  ship-city           128942 non-null  object \n",
      " 17  ship-state          128942 non-null  object \n",
      " 18  ship-postal-code    128942 non-null  float64\n",
      " 19  ship-country        128942 non-null  object \n",
      " 20  promotion-ids       79822 non-null   object \n",
      " 21  B2B                 128975 non-null  bool   \n",
      " 22  fulfilled-by        39277 non-null   object \n",
      " 23  Unnamed: 22         79925 non-null   object \n",
      "dtypes: bool(1), float64(2), int64(2), object(19)\n",
      "memory usage: 22.8+ MB\n"
     ]
    },
    {
     "data": {
      "text/html": [
       "<div>\n",
       "<style scoped>\n",
       "    .dataframe tbody tr th:only-of-type {\n",
       "        vertical-align: middle;\n",
       "    }\n",
       "\n",
       "    .dataframe tbody tr th {\n",
       "        vertical-align: top;\n",
       "    }\n",
       "\n",
       "    .dataframe thead th {\n",
       "        text-align: right;\n",
       "    }\n",
       "</style>\n",
       "<table border=\"1\" class=\"dataframe\">\n",
       "  <thead>\n",
       "    <tr style=\"text-align: right;\">\n",
       "      <th></th>\n",
       "      <th>index</th>\n",
       "      <th>Order ID</th>\n",
       "      <th>Date</th>\n",
       "      <th>Status</th>\n",
       "      <th>Fulfilment</th>\n",
       "      <th>Sales Channel</th>\n",
       "      <th>ship-service-level</th>\n",
       "      <th>Style</th>\n",
       "      <th>SKU</th>\n",
       "      <th>Category</th>\n",
       "      <th>...</th>\n",
       "      <th>currency</th>\n",
       "      <th>Amount</th>\n",
       "      <th>ship-city</th>\n",
       "      <th>ship-state</th>\n",
       "      <th>ship-postal-code</th>\n",
       "      <th>ship-country</th>\n",
       "      <th>promotion-ids</th>\n",
       "      <th>B2B</th>\n",
       "      <th>fulfilled-by</th>\n",
       "      <th>Unnamed: 22</th>\n",
       "    </tr>\n",
       "  </thead>\n",
       "  <tbody>\n",
       "    <tr>\n",
       "      <th>0</th>\n",
       "      <td>0</td>\n",
       "      <td>405-8078784-5731545</td>\n",
       "      <td>04-30-22</td>\n",
       "      <td>Cancelled</td>\n",
       "      <td>Merchant</td>\n",
       "      <td>Amazon.in</td>\n",
       "      <td>Standard</td>\n",
       "      <td>SET389</td>\n",
       "      <td>SET389-KR-NP-S</td>\n",
       "      <td>Set</td>\n",
       "      <td>...</td>\n",
       "      <td>INR</td>\n",
       "      <td>647.62</td>\n",
       "      <td>MUMBAI</td>\n",
       "      <td>MAHARASHTRA</td>\n",
       "      <td>400081.0</td>\n",
       "      <td>IN</td>\n",
       "      <td>NaN</td>\n",
       "      <td>False</td>\n",
       "      <td>Easy Ship</td>\n",
       "      <td>NaN</td>\n",
       "    </tr>\n",
       "    <tr>\n",
       "      <th>1</th>\n",
       "      <td>1</td>\n",
       "      <td>171-9198151-1101146</td>\n",
       "      <td>04-30-22</td>\n",
       "      <td>Shipped - Delivered to Buyer</td>\n",
       "      <td>Merchant</td>\n",
       "      <td>Amazon.in</td>\n",
       "      <td>Standard</td>\n",
       "      <td>JNE3781</td>\n",
       "      <td>JNE3781-KR-XXXL</td>\n",
       "      <td>kurta</td>\n",
       "      <td>...</td>\n",
       "      <td>INR</td>\n",
       "      <td>406.00</td>\n",
       "      <td>BENGALURU</td>\n",
       "      <td>KARNATAKA</td>\n",
       "      <td>560085.0</td>\n",
       "      <td>IN</td>\n",
       "      <td>Amazon PLCC Free-Financing Universal Merchant ...</td>\n",
       "      <td>False</td>\n",
       "      <td>Easy Ship</td>\n",
       "      <td>NaN</td>\n",
       "    </tr>\n",
       "    <tr>\n",
       "      <th>2</th>\n",
       "      <td>2</td>\n",
       "      <td>404-0687676-7273146</td>\n",
       "      <td>04-30-22</td>\n",
       "      <td>Shipped</td>\n",
       "      <td>Amazon</td>\n",
       "      <td>Amazon.in</td>\n",
       "      <td>Expedited</td>\n",
       "      <td>JNE3371</td>\n",
       "      <td>JNE3371-KR-XL</td>\n",
       "      <td>kurta</td>\n",
       "      <td>...</td>\n",
       "      <td>INR</td>\n",
       "      <td>329.00</td>\n",
       "      <td>NAVI MUMBAI</td>\n",
       "      <td>MAHARASHTRA</td>\n",
       "      <td>410210.0</td>\n",
       "      <td>IN</td>\n",
       "      <td>IN Core Free Shipping 2015/04/08 23-48-5-108</td>\n",
       "      <td>True</td>\n",
       "      <td>NaN</td>\n",
       "      <td>NaN</td>\n",
       "    </tr>\n",
       "    <tr>\n",
       "      <th>3</th>\n",
       "      <td>3</td>\n",
       "      <td>403-9615377-8133951</td>\n",
       "      <td>04-30-22</td>\n",
       "      <td>Cancelled</td>\n",
       "      <td>Merchant</td>\n",
       "      <td>Amazon.in</td>\n",
       "      <td>Standard</td>\n",
       "      <td>J0341</td>\n",
       "      <td>J0341-DR-L</td>\n",
       "      <td>Western Dress</td>\n",
       "      <td>...</td>\n",
       "      <td>INR</td>\n",
       "      <td>753.33</td>\n",
       "      <td>PUDUCHERRY</td>\n",
       "      <td>PUDUCHERRY</td>\n",
       "      <td>605008.0</td>\n",
       "      <td>IN</td>\n",
       "      <td>NaN</td>\n",
       "      <td>False</td>\n",
       "      <td>Easy Ship</td>\n",
       "      <td>NaN</td>\n",
       "    </tr>\n",
       "    <tr>\n",
       "      <th>4</th>\n",
       "      <td>4</td>\n",
       "      <td>407-1069790-7240320</td>\n",
       "      <td>04-30-22</td>\n",
       "      <td>Shipped</td>\n",
       "      <td>Amazon</td>\n",
       "      <td>Amazon.in</td>\n",
       "      <td>Expedited</td>\n",
       "      <td>JNE3671</td>\n",
       "      <td>JNE3671-TU-XXXL</td>\n",
       "      <td>Top</td>\n",
       "      <td>...</td>\n",
       "      <td>INR</td>\n",
       "      <td>574.00</td>\n",
       "      <td>CHENNAI</td>\n",
       "      <td>TAMIL NADU</td>\n",
       "      <td>600073.0</td>\n",
       "      <td>IN</td>\n",
       "      <td>NaN</td>\n",
       "      <td>False</td>\n",
       "      <td>NaN</td>\n",
       "      <td>NaN</td>\n",
       "    </tr>\n",
       "  </tbody>\n",
       "</table>\n",
       "<p>5 rows × 24 columns</p>\n",
       "</div>"
      ],
      "text/plain": [
       "   index             Order ID      Date                        Status  \\\n",
       "0      0  405-8078784-5731545  04-30-22                     Cancelled   \n",
       "1      1  171-9198151-1101146  04-30-22  Shipped - Delivered to Buyer   \n",
       "2      2  404-0687676-7273146  04-30-22                       Shipped   \n",
       "3      3  403-9615377-8133951  04-30-22                     Cancelled   \n",
       "4      4  407-1069790-7240320  04-30-22                       Shipped   \n",
       "\n",
       "  Fulfilment Sales Channel  ship-service-level    Style              SKU  \\\n",
       "0   Merchant      Amazon.in           Standard   SET389   SET389-KR-NP-S   \n",
       "1   Merchant      Amazon.in           Standard  JNE3781  JNE3781-KR-XXXL   \n",
       "2     Amazon      Amazon.in          Expedited  JNE3371    JNE3371-KR-XL   \n",
       "3   Merchant      Amazon.in           Standard    J0341       J0341-DR-L   \n",
       "4     Amazon      Amazon.in          Expedited  JNE3671  JNE3671-TU-XXXL   \n",
       "\n",
       "        Category  ... currency  Amount    ship-city   ship-state  \\\n",
       "0            Set  ...      INR  647.62       MUMBAI  MAHARASHTRA   \n",
       "1          kurta  ...      INR  406.00    BENGALURU    KARNATAKA   \n",
       "2          kurta  ...      INR  329.00  NAVI MUMBAI  MAHARASHTRA   \n",
       "3  Western Dress  ...      INR  753.33   PUDUCHERRY   PUDUCHERRY   \n",
       "4            Top  ...      INR  574.00      CHENNAI   TAMIL NADU   \n",
       "\n",
       "  ship-postal-code  ship-country  \\\n",
       "0         400081.0            IN   \n",
       "1         560085.0            IN   \n",
       "2         410210.0            IN   \n",
       "3         605008.0            IN   \n",
       "4         600073.0            IN   \n",
       "\n",
       "                                       promotion-ids    B2B  fulfilled-by  \\\n",
       "0                                                NaN  False     Easy Ship   \n",
       "1  Amazon PLCC Free-Financing Universal Merchant ...  False     Easy Ship   \n",
       "2       IN Core Free Shipping 2015/04/08 23-48-5-108   True           NaN   \n",
       "3                                                NaN  False     Easy Ship   \n",
       "4                                                NaN  False           NaN   \n",
       "\n",
       "  Unnamed: 22  \n",
       "0         NaN  \n",
       "1         NaN  \n",
       "2         NaN  \n",
       "3         NaN  \n",
       "4         NaN  \n",
       "\n",
       "[5 rows x 24 columns]"
      ]
     },
     "execution_count": 2,
     "metadata": {},
     "output_type": "execute_result"
    }
   ],
   "source": [
    "# Load dataset\n",
    "data_path = \"/kaggle/input/unlock-profits-with-e-commerce-sales-data/Amazon Sale Report.csv\"\n",
    "df = pd.read_csv(data_path, encoding=\"latin1\")\n",
    "\n",
    "# Display dataset info\n",
    "df.info()\n",
    "\n",
    "# Show first few rows\n",
    "df.head()"
   ]
  },
  {
   "cell_type": "markdown",
   "id": "fa574232",
   "metadata": {
    "papermill": {
     "duration": 0.004595,
     "end_time": "2025-03-09T00:52:41.754275",
     "exception": false,
     "start_time": "2025-03-09T00:52:41.749680",
     "status": "completed"
    },
    "tags": []
   },
   "source": [
    "## Data Preprocessing & Feature Engineering  \n",
    "- Convert the `Date` column to datetime format.  \n",
    "- Aggregate sales on a daily basis.  \n",
    "- Add seasonality features (`day_of_week`, `month`, `year`, `quarter`).  \n",
    "- Handle missing values by forward-filling.  "
   ]
  },
  {
   "cell_type": "code",
   "execution_count": 3,
   "id": "7c1b1361",
   "metadata": {
    "execution": {
     "iopub.execute_input": "2025-03-09T00:52:41.765815Z",
     "iopub.status.busy": "2025-03-09T00:52:41.765465Z",
     "iopub.status.idle": "2025-03-09T00:52:41.819228Z",
     "shell.execute_reply": "2025-03-09T00:52:41.817961Z"
    },
    "papermill": {
     "duration": 0.061943,
     "end_time": "2025-03-09T00:52:41.821230",
     "exception": false,
     "start_time": "2025-03-09T00:52:41.759287",
     "status": "completed"
    },
    "tags": []
   },
   "outputs": [
    {
     "data": {
      "text/html": [
       "<div>\n",
       "<style scoped>\n",
       "    .dataframe tbody tr th:only-of-type {\n",
       "        vertical-align: middle;\n",
       "    }\n",
       "\n",
       "    .dataframe tbody tr th {\n",
       "        vertical-align: top;\n",
       "    }\n",
       "\n",
       "    .dataframe thead th {\n",
       "        text-align: right;\n",
       "    }\n",
       "</style>\n",
       "<table border=\"1\" class=\"dataframe\">\n",
       "  <thead>\n",
       "    <tr style=\"text-align: right;\">\n",
       "      <th></th>\n",
       "      <th>Amount</th>\n",
       "      <th>day_of_week</th>\n",
       "      <th>month</th>\n",
       "      <th>year</th>\n",
       "      <th>quarter</th>\n",
       "    </tr>\n",
       "    <tr>\n",
       "      <th>Date</th>\n",
       "      <th></th>\n",
       "      <th></th>\n",
       "      <th></th>\n",
       "      <th></th>\n",
       "      <th></th>\n",
       "    </tr>\n",
       "  </thead>\n",
       "  <tbody>\n",
       "    <tr>\n",
       "      <th>2022-03-31</th>\n",
       "      <td>101683.85</td>\n",
       "      <td>3</td>\n",
       "      <td>3</td>\n",
       "      <td>2022</td>\n",
       "      <td>1</td>\n",
       "    </tr>\n",
       "    <tr>\n",
       "      <th>2022-04-01</th>\n",
       "      <td>865478.60</td>\n",
       "      <td>4</td>\n",
       "      <td>4</td>\n",
       "      <td>2022</td>\n",
       "      <td>2</td>\n",
       "    </tr>\n",
       "    <tr>\n",
       "      <th>2022-04-02</th>\n",
       "      <td>913101.53</td>\n",
       "      <td>5</td>\n",
       "      <td>4</td>\n",
       "      <td>2022</td>\n",
       "      <td>2</td>\n",
       "    </tr>\n",
       "    <tr>\n",
       "      <th>2022-04-03</th>\n",
       "      <td>1011763.38</td>\n",
       "      <td>6</td>\n",
       "      <td>4</td>\n",
       "      <td>2022</td>\n",
       "      <td>2</td>\n",
       "    </tr>\n",
       "    <tr>\n",
       "      <th>2022-04-04</th>\n",
       "      <td>882059.17</td>\n",
       "      <td>0</td>\n",
       "      <td>4</td>\n",
       "      <td>2022</td>\n",
       "      <td>2</td>\n",
       "    </tr>\n",
       "  </tbody>\n",
       "</table>\n",
       "</div>"
      ],
      "text/plain": [
       "                Amount  day_of_week  month  year  quarter\n",
       "Date                                                     \n",
       "2022-03-31   101683.85            3      3  2022        1\n",
       "2022-04-01   865478.60            4      4  2022        2\n",
       "2022-04-02   913101.53            5      4  2022        2\n",
       "2022-04-03  1011763.38            6      4  2022        2\n",
       "2022-04-04   882059.17            0      4  2022        2"
      ]
     },
     "execution_count": 3,
     "metadata": {},
     "output_type": "execute_result"
    }
   ],
   "source": [
    "# Convert Date column to datetime format\n",
    "df['Date'] = pd.to_datetime(df['Date'], format='%m-%d-%y')\n",
    "\n",
    "# Aggregate daily sales\n",
    "df = df[['Date', 'Amount']].groupby('Date').sum().reset_index()\n",
    "\n",
    "# Feature Engineering: Add seasonality indicators\n",
    "df['day_of_week'] = df['Date'].dt.dayofweek\n",
    "df['month'] = df['Date'].dt.month\n",
    "df['year'] = df['Date'].dt.year\n",
    "df['quarter'] = df['Date'].dt.quarter\n",
    "\n",
    "# Set Date as index and fill missing values\n",
    "df = df.set_index('Date').asfreq('D').fillna(method='ffill')\n",
    "\n",
    "# Display processed data\n",
    "df.head()"
   ]
  },
  {
   "cell_type": "markdown",
   "id": "5a823fd2",
   "metadata": {
    "papermill": {
     "duration": 0.004766,
     "end_time": "2025-03-09T00:52:41.831486",
     "exception": false,
     "start_time": "2025-03-09T00:52:41.826720",
     "status": "completed"
    },
    "tags": []
   },
   "source": [
    "## Exploratory Data Analysis (EDA)  \n",
    "We will analyze sales trends, seasonality, and distribution."
   ]
  },
  {
   "cell_type": "code",
   "execution_count": 4,
   "id": "a8887a3e",
   "metadata": {
    "execution": {
     "iopub.execute_input": "2025-03-09T00:52:41.842714Z",
     "iopub.status.busy": "2025-03-09T00:52:41.842362Z",
     "iopub.status.idle": "2025-03-09T00:52:42.280182Z",
     "shell.execute_reply": "2025-03-09T00:52:42.278364Z"
    },
    "papermill": {
     "duration": 0.447085,
     "end_time": "2025-03-09T00:52:42.283491",
     "exception": false,
     "start_time": "2025-03-09T00:52:41.836406",
     "status": "completed"
    },
    "tags": []
   },
   "outputs": [
    {
     "data": {
      "image/png": "[encoded data removed]",
      "text/plain": [
       "<Figure size 1400x600 with 1 Axes>"
      ]
     },
     "metadata": {},
     "output_type": "display_data"
    }
   ],
   "source": [
    "# Plot overall sales trend\n",
    "plt.figure(figsize=(14,6))\n",
    "plt.plot(df['Amount'], label=\"Sales Amount\", color='b')\n",
    "plt.title(\"E-Commerce Sales Over Time\")\n",
    "plt.xlabel(\"Date\")\n",
    "plt.ylabel(\"Sales Amount\")\n",
    "plt.legend()\n",
    "plt.show()"
   ]
  },
  {
   "cell_type": "code",
   "execution_count": 5,
   "id": "26ec8cea",
   "metadata": {
    "execution": {
     "iopub.execute_input": "2025-03-09T00:52:42.298779Z",
     "iopub.status.busy": "2025-03-09T00:52:42.298393Z",
     "iopub.status.idle": "2025-03-09T00:52:42.898117Z",
     "shell.execute_reply": "2025-03-09T00:52:42.896867Z"
    },
    "papermill": {
     "duration": 0.608977,
     "end_time": "2025-03-09T00:52:42.899855",
     "exception": false,
     "start_time": "2025-03-09T00:52:42.290878",
     "status": "completed"
    },
    "tags": []
   },
   "outputs": [
    {
     "data": {
      "image/png": "[encoded data removed]",
      "text/plain": [
       "<Figure size 1000x500 with 1 Axes>"
      ]
     },
     "metadata": {},
     "output_type": "display_data"
    }
   ],
   "source": [
    "# Monthly Sales Analysis\n",
    "plt.figure(figsize=(10,5))\n",
    "sns.boxplot(x=df['month'], y=df['Amount'], palette=\"coolwarm\")\n",
    "plt.title(\"Sales Distribution Across Months\")\n",
    "plt.xlabel(\"Month\")\n",
    "plt.ylabel(\"Sales Amount\")\n",
    "plt.show()"
   ]
  },
  {
   "cell_type": "code",
   "execution_count": 6,
   "id": "99e19512",
   "metadata": {
    "execution": {
     "iopub.execute_input": "2025-03-09T00:52:42.915213Z",
     "iopub.status.busy": "2025-03-09T00:52:42.914759Z",
     "iopub.status.idle": "2025-03-09T00:52:43.261948Z",
     "shell.execute_reply": "2025-03-09T00:52:43.260468Z"
    },
    "papermill": {
     "duration": 0.356952,
     "end_time": "2025-03-09T00:52:43.263661",
     "exception": false,
     "start_time": "2025-03-09T00:52:42.906709",
     "status": "completed"
    },
    "tags": []
   },
   "outputs": [
    {
     "data": {
      "image/png": "[encoded data removed]",
      "text/plain": [
       "<Figure size 800x500 with 1 Axes>"
      ]
     },
     "metadata": {},
     "output_type": "display_data"
    }
   ],
   "source": [
    "# Day-of-week Sales\n",
    "plt.figure(figsize=(8,5))\n",
    "sns.barplot(x=df['day_of_week'], y=df['Amount'], palette=\"viridis\")\n",
    "plt.title(\"Sales by Day of the Week\")\n",
    "plt.xlabel(\"Day of the Week (0 = Monday, 6 = Sunday)\")\n",
    "plt.ylabel(\"Sales Amount\")\n",
    "plt.show()"
   ]
  },
  {
   "cell_type": "markdown",
   "id": "d4541c86",
   "metadata": {
    "papermill": {
     "duration": 0.006708,
     "end_time": "2025-03-09T00:52:43.277778",
     "exception": false,
     "start_time": "2025-03-09T00:52:43.271070",
     "status": "completed"
    },
    "tags": []
   },
   "source": [
    "## Train-Test Split & Scaling  \n",
    "We split the data into 80% training and 20% testing sets.  \n",
    "LSTM requires data scaling for better convergence."
   ]
  },
  {
   "cell_type": "code",
   "execution_count": 7,
   "id": "71d27fd0",
   "metadata": {
    "execution": {
     "iopub.execute_input": "2025-03-09T00:52:43.294394Z",
     "iopub.status.busy": "2025-03-09T00:52:43.293922Z",
     "iopub.status.idle": "2025-03-09T00:52:43.307456Z",
     "shell.execute_reply": "2025-03-09T00:52:43.306142Z"
    },
    "papermill": {
     "duration": 0.023426,
     "end_time": "2025-03-09T00:52:43.309037",
     "exception": false,
     "start_time": "2025-03-09T00:52:43.285611",
     "status": "completed"
    },
    "tags": []
   },
   "outputs": [
    {
     "name": "stdout",
     "output_type": "stream",
     "text": [
      "Training Data: 72 rows, Testing Data: 19 rows\n"
     ]
    }
   ],
   "source": [
    "# Splitting Data\n",
    "train_size = int(len(df) * 0.8)\n",
    "train, test = df[:train_size], df[train_size:]\n",
    "\n",
    "# Scaling Data for LSTM\n",
    "scaler = MinMaxScaler()\n",
    "train_scaled = scaler.fit_transform(train[['Amount']])\n",
    "test_scaled = scaler.transform(test[['Amount']])\n",
    "\n",
    "# Display dataset size\n",
    "print(f\"Training Data: {len(train)} rows, Testing Data: {len(test)} rows\")"
   ]
  },
  {
   "cell_type": "markdown",
   "id": "79ad7d7b",
   "metadata": {
    "papermill": {
     "duration": 0.006655,
     "end_time": "2025-03-09T00:52:43.322780",
     "exception": false,
     "start_time": "2025-03-09T00:52:43.316125",
     "status": "completed"
    },
    "tags": []
   },
   "source": [
    "## SARIMA Model  \n",
    "SARIMA is a time-series model that accounts for seasonality."
   ]
  },
  {
   "cell_type": "code",
   "execution_count": 8,
   "id": "bff620dc",
   "metadata": {
    "execution": {
     "iopub.execute_input": "2025-03-09T00:52:43.338433Z",
     "iopub.status.busy": "2025-03-09T00:52:43.338031Z",
     "iopub.status.idle": "2025-03-09T00:52:46.391707Z",
     "shell.execute_reply": "2025-03-09T00:52:46.390811Z"
    },
    "papermill": {
     "duration": 3.064494,
     "end_time": "2025-03-09T00:52:46.394380",
     "exception": false,
     "start_time": "2025-03-09T00:52:43.329886",
     "status": "completed"
    },
    "tags": []
   },
   "outputs": [
    {
     "name": "stdout",
     "output_type": "stream",
     "text": [
      "SARIMA MAE: 134758.98, RMSE: 177884.31, R²: -1.4129\n"
     ]
    }
   ],
   "source": [
    "# Train SARIMA Model\n",
    "sarima_model = SARIMAX(train['Amount'], order=(3,1,2), seasonal_order=(2,1,2,12))\n",
    "sarima_fit = sarima_model.fit()\n",
    "\n",
    "# Forecast\n",
    "sarima_preds = sarima_fit.forecast(steps=len(test))\n",
    "\n",
    "# Ensure both values have the same shape for evaluation\n",
    "sarima_mae = mean_absolute_error(test['Amount'], sarima_preds)\n",
    "sarima_rmse = np.sqrt(mean_squared_error(test['Amount'], sarima_preds))\n",
    "sarima_r2 = r2_score(test['Amount'], sarima_preds)\n",
    "\n",
    "# Display results\n",
    "print(f\"SARIMA MAE: {sarima_mae:.2f}, RMSE: {sarima_rmse:.2f}, R²: {sarima_r2:.4f}\")"
   ]
  },
  {
   "cell_type": "markdown",
   "id": "4c3b6737",
   "metadata": {
    "papermill": {
     "duration": 0.007041,
     "end_time": "2025-03-09T00:52:46.409082",
     "exception": false,
     "start_time": "2025-03-09T00:52:46.402041",
     "status": "completed"
    },
    "tags": []
   },
   "source": [
    "## XGBoost Model  \n",
    "A machine learning model for time-series forecasting."
   ]
  },
  {
   "cell_type": "code",
   "execution_count": 9,
   "id": "d84f97df",
   "metadata": {
    "execution": {
     "iopub.execute_input": "2025-03-09T00:52:46.425679Z",
     "iopub.status.busy": "2025-03-09T00:52:46.425297Z",
     "iopub.status.idle": "2025-03-09T00:52:46.585794Z",
     "shell.execute_reply": "2025-03-09T00:52:46.583417Z"
    },
    "papermill": {
     "duration": 0.171132,
     "end_time": "2025-03-09T00:52:46.587769",
     "exception": false,
     "start_time": "2025-03-09T00:52:46.416637",
     "status": "completed"
    },
    "tags": []
   },
   "outputs": [
    {
     "name": "stdout",
     "output_type": "stream",
     "text": [
      "XGBoost MAE: 174614.34, RMSE: 208867.99, R²: -2.3267\n"
     ]
    }
   ],
   "source": [
    "# Train XGBoost\n",
    "xgb_model = XGBRegressor(n_estimators=200, learning_rate=0.05)\n",
    "xgb_model.fit(train.drop(columns=['Amount']), train['Amount'])\n",
    "\n",
    "# Predict\n",
    "xgb_preds = xgb_model.predict(test.drop(columns=['Amount']))\n",
    "\n",
    "# Evaluate XGBoost\n",
    "xgb_mae = mean_absolute_error(test['Amount'], xgb_preds)\n",
    "xgb_rmse = np.sqrt(mean_squared_error(test['Amount'], xgb_preds))\n",
    "xgb_r2 = r2_score(test['Amount'], xgb_preds)\n",
    "\n",
    "print(f\"XGBoost MAE: {xgb_mae:.2f}, RMSE: {xgb_rmse:.2f}, R²: {xgb_r2:.4f}\")"
   ]
  },
  {
   "cell_type": "markdown",
   "id": "6cb17065",
   "metadata": {
    "papermill": {
     "duration": 0.006905,
     "end_time": "2025-03-09T00:52:46.603770",
     "exception": false,
     "start_time": "2025-03-09T00:52:46.596865",
     "status": "completed"
    },
    "tags": []
   },
   "source": [
    "## LSTM Model  \n",
    "A deep-learning-based time-series forecasting model."
   ]
  },
  {
   "cell_type": "code",
   "execution_count": 10,
   "id": "04a5b92c",
   "metadata": {
    "execution": {
     "iopub.execute_input": "2025-03-09T00:52:46.619559Z",
     "iopub.status.busy": "2025-03-09T00:52:46.618858Z",
     "iopub.status.idle": "2025-03-09T00:52:54.049881Z",
     "shell.execute_reply": "2025-03-09T00:52:54.048510Z"
    },
    "papermill": {
     "duration": 7.441012,
     "end_time": "2025-03-09T00:52:54.051866",
     "exception": false,
     "start_time": "2025-03-09T00:52:46.610854",
     "status": "completed"
    },
    "tags": []
   },
   "outputs": [
    {
     "name": "stdout",
     "output_type": "stream",
     "text": [
      "\u001b[1m1/1\u001b[0m \u001b[32m━━━━━━━━━━━━━━━━━━━━\u001b[0m\u001b[37m\u001b[0m \u001b[1m0s\u001b[0m 281ms/step\n",
      "LSTM MAE: 58636.91, RMSE: 74808.69, R²: 0.5732\n"
     ]
    }
   ],
   "source": [
    "# Train LSTM\n",
    "lstm_model = Sequential([\n",
    "    LSTM(100, activation='relu', return_sequences=True, input_shape=(1,1)),\n",
    "    Dropout(0.2),\n",
    "    LSTM(50, activation='relu'),\n",
    "    Dense(1)\n",
    "])\n",
    "lstm_model.compile(optimizer='adam', loss='mse')\n",
    "lstm_model.fit(train_scaled.reshape(-1,1,1), train_scaled, epochs=100, batch_size=32, verbose=0)\n",
    "\n",
    "# Predict & Inverse Transform\n",
    "lstm_preds = scaler.inverse_transform(lstm_model.predict(test_scaled.reshape(-1,1,1))).flatten()\n",
    "\n",
    "# Evaluate LSTM\n",
    "lstm_mae = mean_absolute_error(test['Amount'], lstm_preds)\n",
    "lstm_rmse = np.sqrt(mean_squared_error(test['Amount'], lstm_preds))\n",
    "lstm_r2 = r2_score(test['Amount'], lstm_preds)\n",
    "\n",
    "print(f\"LSTM MAE: {lstm_mae:.2f}, RMSE: {lstm_rmse:.2f}, R²: {lstm_r2:.4f}\")"
   ]
  },
  {
   "cell_type": "markdown",
   "id": "c1bdcd2b",
   "metadata": {
    "papermill": {
     "duration": 0.00702,
     "end_time": "2025-03-09T00:52:54.066833",
     "exception": false,
     "start_time": "2025-03-09T00:52:54.059813",
     "status": "completed"
    },
    "tags": []
   },
   "source": [
    "## Final Model Comparison & Performance Evaluation\n",
    "We compare the performance of SARIMA, XGBoost, and LSTM using:\n",
    "- Mean Absolute Error (MAE) → Measures overall prediction error.\n",
    "- Root Mean Squared Error (RMSE) → Measures error variability.\n",
    "- R² Score → Measures how well the model explains variance (higher is better).\n",
    "\n",
    "## Key Observations\n",
    "✅ LSTM is the best model** with the lowest MAE (59,553) and the highest R² (0.561), meaning it explains 56% of sales variance.    \n",
    "❌ SARIMA and XGBoost fail** → Negative R² means they are worse than simply predicting the average sales.  \n",
    "➡️ Conclusion: LSTM is the most reliable choice for e-commerce sales forecasting."
   ]
  },
  {
   "cell_type": "code",
   "execution_count": 11,
   "id": "acbb22c1",
   "metadata": {
    "execution": {
     "iopub.execute_input": "2025-03-09T00:52:54.083028Z",
     "iopub.status.busy": "2025-03-09T00:52:54.082651Z",
     "iopub.status.idle": "2025-03-09T00:52:54.683615Z",
     "shell.execute_reply": "2025-03-09T00:52:54.682031Z"
    },
    "papermill": {
     "duration": 0.611425,
     "end_time": "2025-03-09T00:52:54.685596",
     "exception": false,
     "start_time": "2025-03-09T00:52:54.074171",
     "status": "completed"
    },
    "tags": []
   },
   "outputs": [
    {
     "name": "stdout",
     "output_type": "stream",
     "text": [
      "     Model            MAE           RMSE  R² Score\n",
      "2     LSTM   58636.908684   74808.689670  0.573247\n",
      "0   SARIMA  134758.976633  177884.313364 -1.412944\n",
      "1  XGBoost  174614.344342  208867.992671 -2.326717\n"
     ]
    },
    {
     "data": {
      "image/png": "[encoded data removed]",
      "text/plain": [
       "<Figure size 1200x500 with 3 Axes>"
      ]
     },
     "metadata": {},
     "output_type": "display_data"
    }
   ],
   "source": [
    "# Create DataFrame for results\n",
    "results = pd.DataFrame({\n",
    "    \"Model\": [\"SARIMA\", \"XGBoost\", \"LSTM\"],\n",
    "    \"MAE\": [sarima_mae, xgb_mae, lstm_mae],\n",
    "    \"RMSE\": [sarima_rmse, xgb_rmse, lstm_rmse],\n",
    "    \"R² Score\": [sarima_r2, xgb_r2, lstm_r2]\n",
    "})\n",
    "\n",
    "# Sort results by MAE for better visualization\n",
    "results = results.sort_values(by=\"MAE\")\n",
    "\n",
    "# Display results\n",
    "print(results)\n",
    "\n",
    "# Plot the results\n",
    "plt.figure(figsize=(12,5))\n",
    "\n",
    "# MAE Comparison\n",
    "plt.subplot(1,3,1)\n",
    "plt.bar(results[\"Model\"], results[\"MAE\"], color=[\"blue\", \"red\", \"green\"])\n",
    "plt.xlabel(\"Model\")\n",
    "plt.ylabel(\"MAE (Lower is Better)\")\n",
    "plt.title(\"Model Performance Comparison - MAE\")\n",
    "\n",
    "# RMSE Comparison\n",
    "plt.subplot(1,3,2)\n",
    "plt.bar(results[\"Model\"], results[\"RMSE\"], color=[\"blue\", \"red\", \"green\"])\n",
    "plt.xlabel(\"Model\")\n",
    "plt.ylabel(\"RMSE (Lower is Better)\")\n",
    "plt.title(\"Model Performance Comparison - RMSE\")\n",
    "\n",
    "# R² Score Comparison\n",
    "plt.subplot(1,3,3)\n",
    "plt.bar(results[\"Model\"], results[\"R² Score\"], color=[\"blue\", \"red\", \"green\"])\n",
    "plt.xlabel(\"Model\")\n",
    "plt.ylabel(\"R² Score (Higher is Better)\")\n",
    "plt.title(\"Model Performance Comparison - R² Score\")\n",
    "\n",
    "plt.tight_layout()\n",
    "plt.show()"
   ]
  },
  {
   "cell_type": "markdown",
   "id": "b22178f1",
   "metadata": {
    "papermill": {
     "duration": 0.00852,
     "end_time": "2025-03-09T00:52:54.703340",
     "exception": false,
     "start_time": "2025-03-09T00:52:54.694820",
     "status": "completed"
    },
    "tags": []
   },
   "source": [
    "## **Conclusion**\n",
    "- **LSTM is the best model** for e-commerce sales forecasting, achieving the lowest MAE (**59,553**) and the highest R² (**0.561**).  \n",
    "- **SARIMA struggles** to explain variance in sales (**R² = -1.41**) despite handling seasonality well.  \n",
    "- **XGBoost completely fails** (**R² = -2.33**) and is not suitable for this dataset.  \n",
    "- **Future research should explore combining SARIMA + LSTM** to improve forecasting accuracy."
   ]
  }
 ],
 "metadata": {
  "kaggle": {
   "accelerator": "none",
   "dataSources": [
    {
     "datasetId": 2699295,
     "sourceId": 4642886,
     "sourceType": "datasetVersion"
    }
   ],
   "dockerImageVersionId": 30886,
   "isGpuEnabled": false,
   "isInternetEnabled": true,
   "language": "python",
   "sourceType": "notebook"
  },
  "kernelspec": {
   "display_name": "Python 3",
   "language": "python",
   "name": "python3"
  },
  "language_info": {
   "codemirror_mode": {
    "name": "ipython",
    "version": 3
   },
   "file_extension": ".py",
   "mimetype": "text/x-python",
   "name": "python",
   "nbconvert_exporter": "python",
   "pygments_lexer": "ipython3",
   "version": "3.10.12"
  },
  "papermill": {
   "default_parameters": {},
   "duration": 41.739655,
   "end_time": "2025-03-09T00:52:57.678940",
   "environment_variables": {},
   "exception": null,
   "input_path": "__notebook__.ipynb",
   "output_path": "__notebook__.ipynb",
   "parameters": {},
   "start_time": "2025-03-09T00:52:15.939285",
   "version": "2.6.0"
  }
 },
 "nbformat": 4,
 "nbformat_minor": 5
}
